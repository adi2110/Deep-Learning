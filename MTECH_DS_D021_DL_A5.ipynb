{
  "nbformat": 4,
  "nbformat_minor": 0,
  "metadata": {
    "colab": {
      "name": "DL_M1 (D021).ipynb",
      "provenance": [],
      "collapsed_sections": []
    },
    "kernelspec": {
      "name": "python3",
      "display_name": "Python 3"
    },
    "accelerator": "GPU"
  },
  "cells": [
    {
      "cell_type": "markdown",
      "metadata": {
        "id": "y9tbKfURgEz0",
        "colab_type": "text"
      },
      "source": [
        "**QUESTION 1**"
      ]
    },
    {
      "cell_type": "markdown",
      "metadata": {
        "id": "bGCJOacybzLt",
        "colab_type": "text"
      },
      "source": [
        "IMPORTING LIBRARIES"
      ]
    },
    {
      "cell_type": "code",
      "metadata": {
        "id": "Fm2HdBQgjkY7",
        "colab_type": "code",
        "colab": {}
      },
      "source": [
        "from bs4 import BeautifulSoup\n",
        "import numpy as np\n",
        "import requests\n",
        "import cv2\n",
        "import PIL.Image\n",
        "import urllib\n",
        "import os\n",
        "import pandas as pd"
      ],
      "execution_count": null,
      "outputs": []
    },
    {
      "cell_type": "markdown",
      "metadata": {
        "id": "gq88lwkWc0HL",
        "colab_type": "text"
      },
      "source": [
        "NEWFOUNDLAND DOG SYNSET"
      ]
    },
    {
      "cell_type": "code",
      "metadata": {
        "id": "d8jFdyuBctqO",
        "colab_type": "code",
        "colab": {}
      },
      "source": [
        "nfd_page = requests.get(\"http://www.image-net.org/api/text/imagenet.synset.geturls?wnid=n02111277\")\n",
        "print(nfd_page.content)\n",
        "\n",
        "nfd_soup = BeautifulSoup(nfd_page.content, 'html.parser')"
      ],
      "execution_count": null,
      "outputs": []
    },
    {
      "cell_type": "markdown",
      "metadata": {
        "id": "XBbG5ADXdYUb",
        "colab_type": "text"
      },
      "source": [
        "DALMATIAN DOG SYNSET"
      ]
    },
    {
      "cell_type": "code",
      "metadata": {
        "id": "wrI-fU3HkRPs",
        "colab_type": "code",
        "colab": {}
      },
      "source": [
        "dalmation_page = requests.get(\"http://www.image-net.org/api/text/imagenet.synset.geturls?wnid=n02110341\")\n",
        "print(dalmation_page.content)\n",
        "\n",
        "dalmation_soup = BeautifulSoup(dalmation_page.content, 'html.parser')"
      ],
      "execution_count": null,
      "outputs": []
    },
    {
      "cell_type": "markdown",
      "metadata": {
        "id": "1uVpIrKEdpMT",
        "colab_type": "text"
      },
      "source": [
        "HUSKY DOG SYNSET"
      ]
    },
    {
      "cell_type": "code",
      "metadata": {
        "id": "wwPxo7jWdprw",
        "colab_type": "code",
        "colab": {}
      },
      "source": [
        "husky_page = requests.get(\"http://www.image-net.org/api/text/imagenet.synset.geturls?wnid=n02109961\")\n",
        "print(husky_page.content)\n",
        "\n",
        "husky_soup = BeautifulSoup(husky_page.content, 'html.parser')"
      ],
      "execution_count": null,
      "outputs": []
    },
    {
      "cell_type": "markdown",
      "metadata": {
        "id": "vf9Ql56deLK8",
        "colab_type": "text"
      },
      "source": [
        "SPLITTING THE URLs"
      ]
    },
    {
      "cell_type": "code",
      "metadata": {
        "id": "M-zNtDoFtrju",
        "colab_type": "code",
        "colab": {}
      },
      "source": [
        "str_nfd_soup=str(nfd_soup)\n",
        "type(str_nfd_soup)\n",
        "nfd_split_urls=str_nfd_soup.split('\\r\\n')\n",
        "print(len(nfd_split_urls))\n",
        "\n",
        "str_dalmation_soup=str(dalmation_soup)\n",
        "type(str_dalmation_soup)\n",
        "dalmation_split_urls=str_dalmation_soup.split('\\r\\n')\n",
        "print(len(dalmation_split_urls))\n",
        "\n",
        "str_husky_soup=str(husky_soup)\n",
        "type(str_husky_soup)\n",
        "husky_split_urls=str_husky_soup.split('\\r\\n')\n",
        "print(len(husky_split_urls))"
      ],
      "execution_count": null,
      "outputs": []
    },
    {
      "cell_type": "markdown",
      "metadata": {
        "id": "a-8ZThdTkaK7",
        "colab_type": "text"
      },
      "source": [
        "MAKE FOLDERS\n"
      ]
    },
    {
      "cell_type": "code",
      "metadata": {
        "id": "RvnNPUMdkciv",
        "colab_type": "code",
        "colab": {}
      },
      "source": [
        "!mkdir /content/train \n",
        "!mkdir /content/train/nfd\n",
        "!mkdir /content/train/dalmation \n",
        "!mkdir /content/train/husky \n",
        "!mkdir /content/validation\n",
        "!mkdir /content/validation/nfd\n",
        "!mkdir /content/validation/dalmation\n",
        "!mkdir /content/validation/husky\n",
        "!mkdir /content/test/ \n",
        "!mkdir /content/test/test"
      ],
      "execution_count": null,
      "outputs": []
    },
    {
      "cell_type": "code",
      "metadata": {
        "id": "ws5t46y-kg6X",
        "colab_type": "code",
        "colab": {}
      },
      "source": [
        "img_rows, img_cols = 32, 32 \n",
        "input_shape = (img_rows, img_cols, 3)\n",
        "\n",
        "def url_to_image(url):\n",
        "\tresp = urllib.request.urlopen(url)\n",
        "\timage = np.asarray(bytearray(resp.read()), dtype=\"uint8\")\n",
        "\timage = cv2.imdecode(image, cv2.IMREAD_COLOR)\n",
        "\treturn image\n",
        "\n",
        "# TRAIN SET\n",
        "\n",
        "training_images=100 \n",
        "for progress in range(training_images):\n",
        "    if(progress%20==0):\n",
        "        print(progress)\n",
        "    if not nfd_split_urls[progress] == None:\n",
        "      try:\n",
        "        I = url_to_image(nfd_split_urls[progress])\n",
        "        if (len(I.shape))==3:\n",
        "          save_path = '/content/train/nfd/img'+str(progress)+'.jpg'\n",
        "          cv2.imwrite(save_path,I)\n",
        "\n",
        "      except:\n",
        "        None\n",
        "\n",
        "\n",
        "for progress in range(training_images):\n",
        "    if(progress%20==0):\n",
        "        print(progress)\n",
        "    if not dalmation_split_urls[progress] == None:\n",
        "      try:\n",
        "        I = url_to_image(dalmation_split_urls[progress])\n",
        "        if (len(I.shape))==3:\n",
        "          save_path = '/content/train/dalmation/img'+str(progress)+'.jpg'\n",
        "          cv2.imwrite(save_path,I)\n",
        "\n",
        "      except:\n",
        "        None\n",
        "\n",
        "for progress in range(training_images):\n",
        "    if(progress%20==0):\n",
        "        print(progress)\n",
        "    if not husky_split_urls[progress] == None:\n",
        "      try:\n",
        "        I = url_to_image(husky_split_urls[progress])\n",
        "        if (len(I.shape))==3: \n",
        "          save_path = '/content/train/husky/img'+str(progress)+'.jpg'\n",
        "          cv2.imwrite(save_path,I)\n",
        "\n",
        "      except:\n",
        "        None        \n",
        "\n",
        "# VALIDATION SET        \n",
        "\n",
        "for progress in range(50):\n",
        "    if(progress%10==0):\n",
        "        print(progress)\n",
        "    if not nfd_split_urls[progress] == None:\n",
        "      try:\n",
        "        I = url_to_image(nfd_split_urls[training_images+progress])\n",
        "        if (len(I.shape))==3:\n",
        "          save_path = '/content/validation/nfd/img'+str(progress)+'.jpg'\n",
        "          cv2.imwrite(save_path,I)\n",
        "\n",
        "      except:\n",
        "        None\n",
        "\n",
        "for progress in range(50):\n",
        "    if(progress%10==0):\n",
        "        print(progress)\n",
        "    if not dalmation_split_urls[progress] == None:\n",
        "      try:\n",
        "        I = url_to_image(dalmation_split_urls[training_images+progress])\n",
        "        if (len(I.shape))==3:\n",
        "          save_path = '/content/validation/dalmation/img'+str(progress)+'.jpg'\n",
        "          cv2.imwrite(save_path,I)\n",
        "\n",
        "      except:\n",
        "        None\n",
        "\n",
        "for progress in range(50):\n",
        "    if(progress%10==0):\n",
        "        print(progress)\n",
        "    if not husky_split_urls[progress] == None:\n",
        "      try:\n",
        "        I = url_to_image(husky_split_urls[training_images+progress])\n",
        "        if (len(I.shape))==3: \n",
        "          save_path = '/content/validation/husky/img'+str(progress)+'.jpg'\n",
        "          cv2.imwrite(save_path,I)\n",
        "\n",
        "      except:\n",
        "        None  "
      ],
      "execution_count": null,
      "outputs": []
    },
    {
      "cell_type": "code",
      "metadata": {
        "id": "3HiMeuPXuEvM",
        "colab_type": "code",
        "colab": {}
      },
      "source": [
        "print(\"\\nTRAIN:\\n\")          \n",
        "\n",
        "print(\"\\nlist the files inside nfd directory:\\n\")        \n",
        "!ls /content/train/nfd\n",
        "print(\"\\nlist the files inside dalmation directory:\\n\")\n",
        "!ls /content/train/dalmation\n",
        "print(\"\\nlist the files inside husky directory:\\n\")\n",
        "!ls /content/train/husky\n",
        "\n",
        "print(\"\\nVALIDATION:\\n\")\n",
        "\n",
        "print(\"\\nlist the files inside nfd directory:\\n\")        \n",
        "!ls /content/validation/nfd\n",
        "print(\"\\nlist the files inside dalmation directory:\\n\")\n",
        "!ls /content/validation/dalmation  \n",
        "print(\"\\nlist the files inside husky directory:\\n\")        \n",
        "!ls /content/validation/husky"
      ],
      "execution_count": null,
      "outputs": []
    },
    {
      "cell_type": "code",
      "metadata": {
        "id": "ZT_6PR4WxF6G",
        "colab_type": "code",
        "colab": {}
      },
      "source": [
        "for progress in range(50):\n",
        "    if(progress%10==0):\n",
        "        print(progress)\n",
        "    if not nfd_split_urls[progress] == None:\n",
        "      try:\n",
        "        I = url_to_image(nfd_split_urls[training_images+progress+100])\n",
        "        if (len(I.shape))==3:\n",
        "          save_path = '/content/test/test/nfd_'+str(progress)+'.jpg'\n",
        "          cv2.imwrite(save_path,I)\n",
        "\n",
        "      except:\n",
        "        None\n",
        "\n",
        "\n",
        "for progress in range(50):\n",
        "    if(progress%10==0):\n",
        "        print(progress)\n",
        "    if not dalmation_split_urls[progress] == None:\n",
        "      try:\n",
        "        I = url_to_image(dalmation_split_urls[training_images+progress+100])\n",
        "        if (len(I.shape))==3:\n",
        "          save_path = '/content/test/test/dalmation_'+str(progress)+'.jpg'\n",
        "          cv2.imwrite(save_path,I)\n",
        "\n",
        "      except:\n",
        "        None\n",
        "\n",
        "\n",
        "for progress in range(50):\n",
        "    if(progress%10==0):\n",
        "        print(progress)\n",
        "    if not husky_split_urls[progress] == None:\n",
        "      try:\n",
        "        I = url_to_image(husky_split_urls[training_images+progress+100])\n",
        "        if (len(I.shape))==3:\n",
        "          save_path = '/content/test/test/husky_'+str(progress)+'.jpg'\n",
        "          cv2.imwrite(save_path,I)\n",
        "\n",
        "      except:\n",
        "        None "
      ],
      "execution_count": null,
      "outputs": []
    },
    {
      "cell_type": "code",
      "metadata": {
        "id": "dbG57WZFxKPk",
        "colab_type": "code",
        "colab": {}
      },
      "source": [
        "original_test = '/content/test/test'\n",
        " \n",
        "filenames = os.listdir(original_test)\n",
        "categories = []\n",
        "for filename in filenames:\n",
        "    category = filename.split('_')[0]\n",
        "    if category == 'nfd':\n",
        "        categories.append('nfd')\n",
        "    elif category == 'dalmation':\n",
        "        categories.append('dalmation')\n",
        "    else:\n",
        "        categories.append('husky')\n",
        "\n",
        "data_test = pd.DataFrame({'filename':filenames,'label':categories})\n",
        "\n",
        "data_test.to_csv(\"original_test.csv\",index=False)"
      ],
      "execution_count": null,
      "outputs": []
    },
    {
      "cell_type": "markdown",
      "metadata": {
        "id": "BRFufxs4lhkk",
        "colab_type": "text"
      },
      "source": [
        "**QUESTION 2 : BUILDING A CLASSIFICATION MODEL**"
      ]
    },
    {
      "cell_type": "code",
      "metadata": {
        "id": "Fo5siivVlg_6",
        "colab_type": "code",
        "colab": {}
      },
      "source": [
        "from tensorflow.keras.layers import Conv2D, Flatten, Dense, Input, MaxPooling2D, BatchNormalization\n",
        "from tensorflow.keras.models import Sequential"
      ],
      "execution_count": 52,
      "outputs": []
    },
    {
      "cell_type": "code",
      "metadata": {
        "id": "R7k6ToZ-ma-9",
        "colab_type": "code",
        "colab": {}
      },
      "source": [
        "model = Sequential()\n",
        "model.add(Input((150, 150, 3)))\n",
        "\n",
        "model.add(Conv2D(64, (3,3), strides=1, padding='same', kernel_initializer='glorot_normal', activation='relu'))\n",
        "model.add(BatchNormalization(axis=3))\n",
        "model.add(Conv2D(64, (3,3), strides=1, padding='same', kernel_initializer='glorot_normal', activation='relu'))\n",
        "model.add(BatchNormalization(axis=3))\n",
        "model.add(MaxPooling2D((2,2), strides=2))\n",
        "\n",
        "model.add(Conv2D(128, (3,3), strides=1, padding='same', kernel_initializer='glorot_normal', activation='relu'))\n",
        "model.add(BatchNormalization(axis=3))\n",
        "model.add(Conv2D(128, (3,3), strides=1, padding='same', kernel_initializer='glorot_normal', activation='relu'))\n",
        "model.add(BatchNormalization(axis=3))\n",
        "model.add(MaxPooling2D((2,2), strides=2))\n",
        "\n",
        "model.add(Conv2D(256, (3,3), strides=1, padding='same', kernel_initializer='glorot_normal', activation='relu'))\n",
        "model.add(BatchNormalization(axis=3))\n",
        "model.add(Conv2D(256, (3,3), strides=1, padding='same', kernel_initializer='glorot_normal', activation='relu'))\n",
        "model.add(BatchNormalization(axis=3))\n",
        "model.add(Conv2D(256, (3,3), strides=1, padding='same', kernel_initializer='glorot_normal', activation='relu'))\n",
        "model.add(BatchNormalization(axis=3))\n",
        "model.add(MaxPooling2D((2,2), strides=2))\n",
        "\n",
        "model.add(Conv2D(512, (3,3), strides=1, padding='same', kernel_initializer='glorot_normal', activation='relu'))\n",
        "model.add(BatchNormalization(axis=3))\n",
        "model.add(Conv2D(512, (3,3), strides=1, padding='same', kernel_initializer='glorot_normal', activation='relu'))\n",
        "model.add(BatchNormalization(axis=3))\n",
        "model.add(Conv2D(512, (3,3), strides=1, padding='same', kernel_initializer='glorot_normal', activation='relu'))\n",
        "model.add(BatchNormalization(axis=3))\n",
        "model.add(MaxPooling2D((2,2), strides=2))\n",
        "\n",
        "model.add(Conv2D(512, (3,3), strides=1, padding='same', kernel_initializer='glorot_normal', activation='relu'))\n",
        "model.add(BatchNormalization(axis=3))\n",
        "model.add(Conv2D(512, (3,3), strides=1, padding='same', kernel_initializer='glorot_normal', activation='relu'))\n",
        "model.add(BatchNormalization(axis=3))\n",
        "model.add(Conv2D(512, (3,3), strides=1, padding='same', kernel_initializer='glorot_normal', activation='relu'))\n",
        "model.add(BatchNormalization(axis=3))\n",
        "model.add(MaxPooling2D((2,2), strides=2))\n",
        "\n",
        "model.add(Flatten())\n",
        "model.add(Dense(4096, kernel_initializer='glorot_normal', activation='relu'))\n",
        "model.add(Dense(1024, kernel_initializer='glorot_normal', activation='relu'))\n",
        "model.add(Dense(256, kernel_initializer='glorot_normal', activation='relu'))\n",
        "model.add(Dense(128, kernel_initializer='glorot_normal', activation='relu'))\n",
        "model.add(Dense(3, activation='softmax'))"
      ],
      "execution_count": 53,
      "outputs": []
    },
    {
      "cell_type": "code",
      "metadata": {
        "id": "93lQeEKBm-ug",
        "colab_type": "code",
        "colab": {
          "base_uri": "https://localhost:8080/",
          "height": 1000
        },
        "outputId": "b7569ecd-bd90-4173-b959-53d6118b11a4"
      },
      "source": [
        "model.summary()"
      ],
      "execution_count": 54,
      "outputs": [
        {
          "output_type": "stream",
          "text": [
            "Model: \"sequential_5\"\n",
            "_________________________________________________________________\n",
            "Layer (type)                 Output Shape              Param #   \n",
            "=================================================================\n",
            "conv2d_53 (Conv2D)           (None, 150, 150, 64)      1792      \n",
            "_________________________________________________________________\n",
            "batch_normalization (BatchNo (None, 150, 150, 64)      256       \n",
            "_________________________________________________________________\n",
            "conv2d_54 (Conv2D)           (None, 150, 150, 64)      36928     \n",
            "_________________________________________________________________\n",
            "batch_normalization_1 (Batch (None, 150, 150, 64)      256       \n",
            "_________________________________________________________________\n",
            "max_pooling2d_20 (MaxPooling (None, 75, 75, 64)        0         \n",
            "_________________________________________________________________\n",
            "conv2d_55 (Conv2D)           (None, 75, 75, 128)       73856     \n",
            "_________________________________________________________________\n",
            "batch_normalization_2 (Batch (None, 75, 75, 128)       512       \n",
            "_________________________________________________________________\n",
            "conv2d_56 (Conv2D)           (None, 75, 75, 128)       147584    \n",
            "_________________________________________________________________\n",
            "batch_normalization_3 (Batch (None, 75, 75, 128)       512       \n",
            "_________________________________________________________________\n",
            "max_pooling2d_21 (MaxPooling (None, 37, 37, 128)       0         \n",
            "_________________________________________________________________\n",
            "conv2d_57 (Conv2D)           (None, 37, 37, 256)       295168    \n",
            "_________________________________________________________________\n",
            "batch_normalization_4 (Batch (None, 37, 37, 256)       1024      \n",
            "_________________________________________________________________\n",
            "conv2d_58 (Conv2D)           (None, 37, 37, 256)       590080    \n",
            "_________________________________________________________________\n",
            "batch_normalization_5 (Batch (None, 37, 37, 256)       1024      \n",
            "_________________________________________________________________\n",
            "conv2d_59 (Conv2D)           (None, 37, 37, 256)       590080    \n",
            "_________________________________________________________________\n",
            "batch_normalization_6 (Batch (None, 37, 37, 256)       1024      \n",
            "_________________________________________________________________\n",
            "max_pooling2d_22 (MaxPooling (None, 18, 18, 256)       0         \n",
            "_________________________________________________________________\n",
            "conv2d_60 (Conv2D)           (None, 18, 18, 512)       1180160   \n",
            "_________________________________________________________________\n",
            "batch_normalization_7 (Batch (None, 18, 18, 512)       2048      \n",
            "_________________________________________________________________\n",
            "conv2d_61 (Conv2D)           (None, 18, 18, 512)       2359808   \n",
            "_________________________________________________________________\n",
            "batch_normalization_8 (Batch (None, 18, 18, 512)       2048      \n",
            "_________________________________________________________________\n",
            "conv2d_62 (Conv2D)           (None, 18, 18, 512)       2359808   \n",
            "_________________________________________________________________\n",
            "batch_normalization_9 (Batch (None, 18, 18, 512)       2048      \n",
            "_________________________________________________________________\n",
            "max_pooling2d_23 (MaxPooling (None, 9, 9, 512)         0         \n",
            "_________________________________________________________________\n",
            "conv2d_63 (Conv2D)           (None, 9, 9, 512)         2359808   \n",
            "_________________________________________________________________\n",
            "batch_normalization_10 (Batc (None, 9, 9, 512)         2048      \n",
            "_________________________________________________________________\n",
            "conv2d_64 (Conv2D)           (None, 9, 9, 512)         2359808   \n",
            "_________________________________________________________________\n",
            "batch_normalization_11 (Batc (None, 9, 9, 512)         2048      \n",
            "_________________________________________________________________\n",
            "conv2d_65 (Conv2D)           (None, 9, 9, 512)         2359808   \n",
            "_________________________________________________________________\n",
            "batch_normalization_12 (Batc (None, 9, 9, 512)         2048      \n",
            "_________________________________________________________________\n",
            "max_pooling2d_24 (MaxPooling (None, 4, 4, 512)         0         \n",
            "_________________________________________________________________\n",
            "flatten_4 (Flatten)          (None, 8192)              0         \n",
            "_________________________________________________________________\n",
            "dense_17 (Dense)             (None, 4096)              33558528  \n",
            "_________________________________________________________________\n",
            "dense_18 (Dense)             (None, 1024)              4195328   \n",
            "_________________________________________________________________\n",
            "dense_19 (Dense)             (None, 256)               262400    \n",
            "_________________________________________________________________\n",
            "dense_20 (Dense)             (None, 128)               32896     \n",
            "_________________________________________________________________\n",
            "dense_21 (Dense)             (None, 3)                 387       \n",
            "=================================================================\n",
            "Total params: 52,781,123\n",
            "Trainable params: 52,772,675\n",
            "Non-trainable params: 8,448\n",
            "_________________________________________________________________\n"
          ],
          "name": "stdout"
        }
      ]
    },
    {
      "cell_type": "markdown",
      "metadata": {
        "id": "WdM-gCUwnSyq",
        "colab_type": "text"
      },
      "source": [
        "**QUESTION 3**"
      ]
    },
    {
      "cell_type": "markdown",
      "metadata": {
        "id": "rs7SV-z4nVZP",
        "colab_type": "text"
      },
      "source": [
        "Data Augmentation Techniques Used : Width Shift, Height Shift, Zoom Range, Horizontal Flipping, Rescaling"
      ]
    },
    {
      "cell_type": "code",
      "metadata": {
        "id": "Ecclp0YrnAKB",
        "colab_type": "code",
        "colab": {}
      },
      "source": [
        "from tensorflow.keras.preprocessing.image import ImageDataGenerator"
      ],
      "execution_count": 55,
      "outputs": []
    },
    {
      "cell_type": "code",
      "metadata": {
        "id": "G7jSoTHmnvje",
        "colab_type": "code",
        "colab": {}
      },
      "source": [
        "trainval_datagen = ImageDataGenerator(\n",
        "    rescale=1./255, horizontal_flip = True, rotation_range = True, vertical_flip = True\n",
        ")\n",
        "\n",
        "test_datagen = ImageDataGenerator(\n",
        "    rescale=1./255\n",
        ")"
      ],
      "execution_count": 56,
      "outputs": []
    },
    {
      "cell_type": "code",
      "metadata": {
        "id": "-8yv9_9qn92t",
        "colab_type": "code",
        "colab": {
          "base_uri": "https://localhost:8080/",
          "height": 70
        },
        "outputId": "03b96c35-df0e-426d-8f40-ba3bb6a8c855"
      },
      "source": [
        "train_generator = trainval_datagen.flow_from_directory(directory='/content/train/',\n",
        "                                                       shuffle=True,\n",
        "                                                       color_mode='rgb',\n",
        "                                                       class_mode='categorical',\n",
        "                                                       target_size=(150,150))\n",
        "\n",
        "val_generator = trainval_datagen.flow_from_directory(directory='/content/validation/',                                                      \n",
        "                                                       shuffle=True,                                                       \n",
        "                                                       color_mode='rgb',\n",
        "                                                       class_mode='categorical',\n",
        "                                                       target_size=(150,150))\n",
        "\n",
        "\n",
        "\n",
        "test_generator = test_datagen.flow_from_directory(directory='/content/test/',\n",
        "                                                  shuffle=False,                                                  \n",
        "                                                  class_mode=None,\n",
        "                                                  color_mode='rgb',\n",
        "                                                  target_size=(150,150))"
      ],
      "execution_count": 57,
      "outputs": [
        {
          "output_type": "stream",
          "text": [
            "Found 219 images belonging to 3 classes.\n",
            "Found 95 images belonging to 3 classes.\n",
            "Found 102 images belonging to 1 classes.\n"
          ],
          "name": "stdout"
        }
      ]
    },
    {
      "cell_type": "markdown",
      "metadata": {
        "id": "2g-lkmIiqRs3",
        "colab_type": "text"
      },
      "source": [
        "CALLBACKS"
      ]
    },
    {
      "cell_type": "code",
      "metadata": {
        "id": "_a5iVWM9o1hj",
        "colab_type": "code",
        "colab": {}
      },
      "source": [
        "from tensorflow.keras.callbacks import EarlyStopping"
      ],
      "execution_count": 58,
      "outputs": []
    },
    {
      "cell_type": "code",
      "metadata": {
        "id": "6NS_j_OpqZW2",
        "colab_type": "code",
        "colab": {}
      },
      "source": [
        "es = EarlyStopping(monitor='val_accuracy', patience=10, mode='auto')"
      ],
      "execution_count": 59,
      "outputs": []
    },
    {
      "cell_type": "code",
      "metadata": {
        "id": "TZuLUfItqpbQ",
        "colab_type": "code",
        "colab": {}
      },
      "source": [
        "model.compile(loss='categorical_crossentropy', metrics=['accuracy'], optimizer='adam')"
      ],
      "execution_count": 60,
      "outputs": []
    },
    {
      "cell_type": "code",
      "metadata": {
        "id": "LdStYl8Eq2z2",
        "colab_type": "code",
        "colab": {
          "base_uri": "https://localhost:8080/",
          "height": 817
        },
        "outputId": "21941257-5d24-4cec-841c-6d5d9b14ad0f"
      },
      "source": [
        "history = model.fit_generator(train_generator, validation_data=val_generator, steps_per_epoch=len(train_generator), epochs=50, callbacks=[es], verbose=2)"
      ],
      "execution_count": 62,
      "outputs": [
        {
          "output_type": "stream",
          "text": [
            "Epoch 1/50\n",
            "WARNING:tensorflow:Callbacks method `on_train_batch_end` is slow compared to the batch time (batch time: 0.1650s vs `on_train_batch_end` time: 0.2892s). Check your callbacks.\n",
            "7/7 - 5s - loss: 10.1271 - accuracy: 0.3790 - val_loss: 31.7718 - val_accuracy: 0.3263\n",
            "Epoch 2/50\n",
            "7/7 - 4s - loss: 2.9668 - accuracy: 0.4658 - val_loss: 1093.4275 - val_accuracy: 0.3263\n",
            "Epoch 3/50\n",
            "7/7 - 4s - loss: 2.2522 - accuracy: 0.5023 - val_loss: 462.4933 - val_accuracy: 0.3579\n",
            "Epoch 4/50\n",
            "7/7 - 4s - loss: 1.9894 - accuracy: 0.5114 - val_loss: 136.2547 - val_accuracy: 0.3263\n",
            "Epoch 5/50\n",
            "7/7 - 4s - loss: 1.4513 - accuracy: 0.5479 - val_loss: 50.4163 - val_accuracy: 0.3158\n",
            "Epoch 6/50\n",
            "7/7 - 4s - loss: 1.1608 - accuracy: 0.5753 - val_loss: 21.7302 - val_accuracy: 0.3368\n",
            "Epoch 7/50\n",
            "7/7 - 4s - loss: 1.1660 - accuracy: 0.5479 - val_loss: 6.0068 - val_accuracy: 0.3263\n",
            "Epoch 8/50\n",
            "7/7 - 4s - loss: 1.0049 - accuracy: 0.6484 - val_loss: 1.7026 - val_accuracy: 0.3474\n",
            "Epoch 9/50\n",
            "7/7 - 4s - loss: 0.8134 - accuracy: 0.6804 - val_loss: 1.9048 - val_accuracy: 0.3579\n",
            "Epoch 10/50\n",
            "7/7 - 4s - loss: 0.8177 - accuracy: 0.5799 - val_loss: 1.5446 - val_accuracy: 0.3263\n",
            "Epoch 11/50\n",
            "7/7 - 4s - loss: 0.8588 - accuracy: 0.6530 - val_loss: 3.1486 - val_accuracy: 0.3263\n",
            "Epoch 12/50\n",
            "7/7 - 4s - loss: 0.8047 - accuracy: 0.6804 - val_loss: 1.0768 - val_accuracy: 0.5263\n",
            "Epoch 13/50\n",
            "7/7 - 4s - loss: 0.7736 - accuracy: 0.6438 - val_loss: 1.0180 - val_accuracy: 0.4632\n",
            "Epoch 14/50\n",
            "7/7 - 4s - loss: 0.7082 - accuracy: 0.7123 - val_loss: 1.3569 - val_accuracy: 0.3789\n",
            "Epoch 15/50\n",
            "7/7 - 4s - loss: 0.6007 - accuracy: 0.7352 - val_loss: 1.0471 - val_accuracy: 0.5053\n",
            "Epoch 16/50\n",
            "7/7 - 4s - loss: 0.5885 - accuracy: 0.7215 - val_loss: 1.1514 - val_accuracy: 0.4105\n",
            "Epoch 17/50\n",
            "7/7 - 4s - loss: 0.5330 - accuracy: 0.7945 - val_loss: 1.0465 - val_accuracy: 0.4421\n",
            "Epoch 18/50\n",
            "7/7 - 4s - loss: 0.5600 - accuracy: 0.7443 - val_loss: 1.0968 - val_accuracy: 0.4211\n",
            "Epoch 19/50\n",
            "7/7 - 4s - loss: 0.5368 - accuracy: 0.7671 - val_loss: 1.6917 - val_accuracy: 0.4316\n",
            "Epoch 20/50\n",
            "7/7 - 4s - loss: 0.6390 - accuracy: 0.7534 - val_loss: 1.4359 - val_accuracy: 0.4526\n",
            "Epoch 21/50\n",
            "7/7 - 4s - loss: 0.5356 - accuracy: 0.7626 - val_loss: 1.5226 - val_accuracy: 0.3895\n",
            "Epoch 22/50\n",
            "7/7 - 4s - loss: 0.5850 - accuracy: 0.7352 - val_loss: 1.3629 - val_accuracy: 0.4105\n"
          ],
          "name": "stdout"
        }
      ]
    },
    {
      "cell_type": "code",
      "metadata": {
        "id": "_0pQHFNK13Wh",
        "colab_type": "code",
        "colab": {
          "base_uri": "https://localhost:8080/",
          "height": 281
        },
        "outputId": "09d80b80-e516-4b8f-bc44-fc423f3e51d2"
      },
      "source": [
        "import matplotlib\n",
        "\n",
        "matplotlib.pyplot.plot(history.history['accuracy'])\n",
        "matplotlib.pyplot.plot(history.history['val_accuracy'])\n",
        "matplotlib.pyplot.title('Accuracy vs Validation Accuracy')\n",
        "matplotlib.pyplot.show()"
      ],
      "execution_count": 63,
      "outputs": [
        {
          "output_type": "display_data",
          "data": {
            "image/png": "[encoded data removed]",
            "text/plain": [
              "<Figure size 432x288 with 1 Axes>"
            ]
          },
          "metadata": {
            "tags": [],
            "needs_background": "light"
          }
        }
      ]
    },
    {
      "cell_type": "code",
      "metadata": {
        "id": "7lOSsbtI16z8",
        "colab_type": "code",
        "colab": {
          "base_uri": "https://localhost:8080/",
          "height": 281
        },
        "outputId": "66d47c50-becc-4470-b47b-140f4fd57cd7"
      },
      "source": [
        "\n",
        "matplotlib.pyplot.plot(history.history['loss'])\n",
        "matplotlib.pyplot.plot(history.history['val_loss'])\n",
        "matplotlib.pyplot.title('Loss vs Validation Loss')\n",
        "matplotlib.pyplot.show()"
      ],
      "execution_count": 64,
      "outputs": [
        {
          "output_type": "display_data",
          "data": {
            "image/png": "[encoded data removed]",
            "text/plain": [
              "<Figure size 432x288 with 1 Axes>"
            ]
          },
          "metadata": {
            "tags": [],
            "needs_background": "light"
          }
        }
      ]
    }
  ]
}